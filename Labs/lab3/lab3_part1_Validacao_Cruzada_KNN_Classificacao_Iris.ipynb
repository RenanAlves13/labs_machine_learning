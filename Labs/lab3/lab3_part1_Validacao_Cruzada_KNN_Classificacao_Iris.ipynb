{
  "cells": [
    {
      "cell_type": "markdown",
      "metadata": {
        "id": "P7EJD3T2kOL8"
      },
      "source": [
        "# Validacao Cruzada com KNN e Iris Dataset"
      ]
    },
    {
      "cell_type": "markdown",
      "metadata": {
        "id": "XW2lJJiykiVO"
      },
      "source": [
        "## Repetindo o que ja fizemos outras vezes"
      ]
    },
    {
      "cell_type": "markdown",
      "metadata": {
        "id": "GXDxwRj7kt1r"
      },
      "source": [
        "#### Carga de dados, split, instanciacao do knn, fit, predict\n",
        "\n",
        "Basta acrescentar uma linha de codigo (predicao)"
      ]
    },
    {
      "cell_type": "code",
      "execution_count": null,
      "metadata": {
        "id": "4zhpI9QVg31F"
      },
      "outputs": [
        {
          "name": "stdout",
          "output_type": "stream",
          "text": [
            "[0 0 0 0 0 0 0 0 0 0 0 0 0 0 0 0 0 0 0 0 0 0 0 0 0 0 0 0 0 0 0 0 0 0 0 0 0\n",
            " 0 0 0 0 0 0 0 0 0 0 0 0 0 1 1 1 1 1 1 1 1 1 1 1 1 1 1 1 1 1 1 1 1 1 1 1 1\n",
            " 1 1 1 1 1 1 1 1 1 1 1 1 1 1 1 1 1 1 1 1 1 1 1 1 1 1 2 2 2 2 2 2 2 2 2 2 2\n",
            " 2 2 2 2 2 2 2 2 2 2 2 2 2 2 2 2 2 2 2 2 2 2 2 2 2 2 2 2 2 2 2 2 2 2 2 2 2\n",
            " 2 2]\n"
          ]
        }
      ],
      "source": [
        "from sklearn.datasets import load_iris\n",
        "from sklearn.model_selection import train_test_split\n",
        "from sklearn.neighbors import KNeighborsClassifier\n",
        "\n",
        "iris = load_iris()\n",
        "X = iris.data \n",
        "y = iris.target\n",
        "print(y)\n",
        "X_train, X_test, y_train, y_test = train_test_split(X, y, random_state=4)\n",
        "\n",
        "knn = KNeighborsClassifier(n_neighbors = 5)\n",
        "knn.fit(X_train, y_train)\n",
        "y_pred = knn.predict(X_test)"
      ]
    },
    {
      "cell_type": "markdown",
      "metadata": {
        "id": "lBD_vAZClNeb"
      },
      "source": [
        "#### Calcular a acuracia com metodo score(x de teste , y de teste) do modelo\n",
        "Resultado: 0.9736842105263158"
      ]
    },
    {
      "cell_type": "markdown",
      "metadata": {},
      "source": [
        "#### **Accuracy in KNN**\n",
        "\n",
        "Accuracy is the ratio of correctly predicted instances to the total instances.  \n",
        "In K-Nearest Neighbors (KNN), it measures how often the model correctly classifies data points based on the majority class of their nearest neighbors.\n"
      ]
    },
    {
      "cell_type": "code",
      "execution_count": null,
      "metadata": {
        "colab": {
          "base_uri": "https://localhost:8080/"
        },
        "id": "M97FFb4Wlc4C",
        "outputId": "9d777ece-8851-4ab0-ef86-bebb22c82e22"
      },
      "outputs": [
        {
          "name": "stdout",
          "output_type": "stream",
          "text": [
            "A acurácia do modelo KNN é: 0.9736842105263158\n"
          ]
        }
      ],
      "source": [
        "#TODO codigo aqui\n",
        "acuracia = knn.score(X_test, y_test)\n",
        "print(f\"A acurácia do modelo KNN é: {acuracia}\")"
      ]
    },
    {
      "cell_type": "markdown",
      "metadata": {
        "id": "33IyxGO-2A9A"
      },
      "source": [
        "## Usando KFold do Scikit Learn"
      ]
    },
    {
      "cell_type": "markdown",
      "metadata": {
        "id": "e25cyeP-2JQa"
      },
      "source": [
        "### Imprimir indices da divisao (Exemplo 1)\n",
        "\n",
        "Vamos dividir o conjunto de treino com 2 splits"
      ]
    },
    {
      "cell_type": "code",
      "execution_count": null,
      "metadata": {
        "colab": {
          "base_uri": "https://localhost:8080/"
        },
        "id": "V0H7cj3M2LOS",
        "outputId": "1285d8a8-52ea-4ef2-d3cf-f1f6a511ca02"
      },
      "outputs": [
        {
          "name": "stdout",
          "output_type": "stream",
          "text": [
            "TRAIN: [2 3 4] TEST: [0 1]\n",
            "TRAIN: [0 1 4] TEST: [2 3]\n",
            "TRAIN: [0 1 2 3] TEST: [4]\n"
          ]
        }
      ],
      "source": [
        "import numpy as np\n",
        "from sklearn.model_selection import KFold\n",
        "\n",
        "# gerando dados ficticios\n",
        "X = np.array([[1, 2], [3, 4], [1, 2], [3, 4], [5, 6]])\n",
        "y = np.array([1, 2, 3, 4, 5])\n",
        "\n",
        "kf = KFold(n_splits=3) #TODO definir a quantidade de splits (n_splits)\n",
        "for train_index, test_index in kf.split(X): #TODO definir o conjunto de dados a ser dividido\n",
        "    print(\"TRAIN:\", train_index, \"TEST:\", test_index)"
      ]
    },
    {
      "cell_type": "markdown",
      "metadata": {
        "id": "qsBp1HbIBZVl"
      },
      "source": [
        "### Imprimir indices da divisao (Exemplo 2 - com shuffle)\n",
        "\n",
        "Faremos novamente 2 splits\n",
        "\n",
        "Utilizar os dados ficticios jah gerados (variavel X)\n",
        "\n",
        "Ao instanciar o KFold, informe shuffle = True e um Random State (sugestao: 4312)\n",
        "\n",
        "Observe a diferenca em relacao ao anterior"
      ]
    },
    {
      "cell_type": "code",
      "execution_count": null,
      "metadata": {
        "colab": {
          "base_uri": "https://localhost:8080/"
        },
        "id": "--JrOCPG__rX",
        "outputId": "cb13c111-bc1f-42fe-8553-756cad1d9d63"
      },
      "outputs": [
        {
          "name": "stdout",
          "output_type": "stream",
          "text": [
            "TRAIN: [0 3] TEST: [1 2 4]\n",
            "TRAIN: [1 2 4] TEST: [0 3]\n"
          ]
        }
      ],
      "source": [
        "kf = KFold(n_splits = 2, shuffle = True, random_state=4312) #TODO adicionar parametros\n",
        "for train_index, test_index in kf.split(X):\n",
        "    print(\"TRAIN:\", train_index, \"TEST:\", test_index)"
      ]
    },
    {
      "cell_type": "markdown",
      "metadata": {
        "id": "m7RYidANCvrG"
      },
      "source": [
        "### Definir X_train, X_test, y_train, y_test em cada iteracao no laco\n",
        "\n",
        "Utilizar os dados ficticios jah gerados (variavel X)"
      ]
    },
    {
      "cell_type": "code",
      "execution_count": null,
      "metadata": {
        "id": "orIO6JC3A_V5"
      },
      "outputs": [],
      "source": [
        "f = KFold(n_splits = 2, shuffle = True, random_state=4312) #TODO adicionar parametros (com shuffle e random state)\n",
        "for train_index, test_index in kf.split(X):\n",
        "    X_train, X_test = X[train_index], X[test_index]\n",
        "    y_train, y_test = y[train_index], y[test_index]"
      ]
    },
    {
      "cell_type": "markdown",
      "metadata": {
        "id": "JzOhR2PCC-Z8"
      },
      "source": [
        "### Calcular a acuracia para 5 particoes diferentes do Iris Dataset (com KNN)\n",
        "\n",
        "KNeighborsClassifier(n_neighbors = 5)\n",
        "\n",
        "n_splits = 5 (com shuffle)\n",
        "\n",
        "Cuidado: Atualizar X e y antes de particionar (com os dados Iris)\n",
        "\n",
        "Imprimir a acuracia com print(knn.score(....))\n",
        "\n",
        "Resultados:\n",
        "\n",
        "0.9666666666666667\n",
        "\n",
        "0.9666666666666667\n",
        "\n",
        "0.9666666666666667\n",
        "\n",
        "0.9333333333333333\n",
        "\n",
        "1.0"
      ]
    },
    {
      "cell_type": "code",
      "execution_count": null,
      "metadata": {
        "colab": {
          "base_uri": "https://localhost:8080/"
        },
        "id": "XoRnfaHvDuyN",
        "outputId": "bee1bb87-4534-46a5-e06a-617d11547c7e"
      },
      "outputs": [
        {
          "name": "stdout",
          "output_type": "stream",
          "text": [
            "Acurácia do Fold 1: 0.9667\n",
            "Acurácia do Fold 2: 0.9667\n",
            "Acurácia do Fold 3: 0.9667\n",
            "Acurácia do Fold 4: 0.9333\n",
            "Acurácia do Fold 5: 1.0000\n"
          ]
        }
      ],
      "source": [
        "knn = KNeighborsClassifier(n_neighbors = 5)\n",
        "X = iris.data\n",
        "y = iris.target\n",
        "kf = KFold(n_splits=5, shuffle=True, random_state=4312)\n",
        "\n",
        "fold_numero = 1\n",
        "for train_index, test_index in kf.split(X):\n",
        "    X_train, X_test = X[train_index], X[test_index]\n",
        "    y_train, y_test = y[train_index], y[test_index]\n",
        "\n",
        "    knn.fit(X_train, y_train)\n",
        "    acuracia = knn.score(X_test, y_test)\n",
        "    print(f\"Acurácia do Fold {fold_numero}: {acuracia:.4f}\")\n",
        "    fold_numero +=1"
      ]
    },
    {
      "cell_type": "markdown",
      "metadata": {
        "id": "v2LxQZNxkpYL"
      },
      "source": [
        "## Calcular a acuracia para 5 particoes diferentes\n",
        "\n",
        "Utilizando a funcao cross_val_score"
      ]
    },
    {
      "cell_type": "markdown",
      "metadata": {
        "id": "4dhih6JQm2ZS"
      },
      "source": [
        "### Imports e modelo"
      ]
    },
    {
      "cell_type": "code",
      "execution_count": null,
      "metadata": {
        "colab": {
          "base_uri": "https://localhost:8080/"
        },
        "id": "CRNgtng-hUoO",
        "outputId": "cec43579-86af-4b3e-f7aa-494f91a43e29"
      },
      "outputs": [
        {
          "name": "stdout",
          "output_type": "stream",
          "text": [
            "Acurácia para cada uma das 5 partições:\n",
            "[0.96666667 1.         0.93333333 0.96666667 1.        ]\n"
          ]
        }
      ],
      "source": [
        "from sklearn.model_selection import cross_val_score\n",
        "knn = KNeighborsClassifier(n_neighbors = 5)\n",
        "\n",
        "scores = cross_val_score(knn, X, y, cv=5, scoring='accuracy')\n",
        "print(\"Acurácia para cada uma das 5 partições:\")\n",
        "print(scores)"
      ]
    },
    {
      "cell_type": "markdown",
      "metadata": {
        "id": "Fbq_J5FZm8rb"
      },
      "source": [
        "### Definindo a configuracao do experimento\n",
        "Usar funcao cross_val_score(modelo, valores das features treino, valores dos rotulos para treino, cv=numerodeparticoes, scoring='accuracy')\n",
        "\n",
        "Vamos fazer 5 particoes, ok?\n",
        "\n",
        "Atribuir resultado a uma variavel\n",
        "\n",
        "Imprima valor da variavel (sao 5 scores) e a media desses scores.\n",
        "\n",
        "scores = [ 0.96666667  1.          0.93333333  0.96666667  1.        ]\n",
        "\n",
        "mean = 0.973333333333\n",
        "\n"
      ]
    },
    {
      "cell_type": "code",
      "execution_count": null,
      "metadata": {
        "colab": {
          "base_uri": "https://localhost:8080/"
        },
        "id": "Yk0n5gsinF1s",
        "outputId": "7d4d223b-fd4c-4c7f-a710-b81a1f0170a1"
      },
      "outputs": [
        {
          "name": "stdout",
          "output_type": "stream",
          "text": [
            "[0.96666667 1.         0.93333333 0.96666667 1.        ]\n",
            "Média (mean): 0.9733333333333334\n"
          ]
        }
      ],
      "source": [
        "scores = cross_val_score(knn, X, y, cv=5, scoring='accuracy')\n",
        "print(scores)\n",
        "print(\"Média (mean):\", scores.mean())\n"
      ]
    },
    {
      "cell_type": "markdown",
      "metadata": {
        "id": "jGlSnAaCqpEO"
      },
      "source": [
        "#### Gerar um grafico de linha para analisar o score medio com diversos valores de k"
      ]
    },
    {
      "cell_type": "code",
      "execution_count": null,
      "metadata": {
        "colab": {
          "base_uri": "https://localhost:8080/",
          "height": 472
        },
        "id": "jZJ8VaL4h13j",
        "outputId": "ee0048ec-eef7-405e-df89-411335348ebb"
      },
      "outputs": [
        {
          "data": {
            "image/png": "[encoded data removed]",
            "text/plain": [
              "<Figure size 640x480 with 1 Axes>"
            ]
          },
          "metadata": {},
          "output_type": "display_data"
        }
      ],
      "source": [
        "import matplotlib.pyplot as plt\n",
        "%matplotlib inline\n",
        "\n",
        "# k variando de 1 a 30\n",
        "k_range = range(1, 30)\n",
        "k_scores = []\n",
        "\n",
        "for k in k_range:\n",
        "    knn = KNeighborsClassifier(n_neighbors=k)\n",
        "    scores = cross_val_score(knn, X, y, cv=5, scoring='accuracy')\n",
        "    k_scores.append(scores.mean())\n",
        "\n",
        "plt.plot(k_range, k_scores)\n",
        "plt.xlabel('Valor de K para KNN')\n",
        "plt.ylabel('Acuracia da Validacao Cruzada')\n",
        "plt.title('Performance do KNN para Diferentes Valores de K')\n",
        "plt.show()"
      ]
    },
    {
      "cell_type": "code",
      "execution_count": null,
      "metadata": {
        "id": "c2D3JI04MRLp"
      },
      "outputs": [],
      "source": []
    }
  ],
  "metadata": {
    "colab": {
      "provenance": []
    },
    "kernelspec": {
      "display_name": "Python 3",
      "name": "python3"
    },
    "language_info": {
      "codemirror_mode": {
        "name": "ipython",
        "version": 3
      },
      "file_extension": ".py",
      "mimetype": "text/x-python",
      "name": "python",
      "nbconvert_exporter": "python",
      "pygments_lexer": "ipython3",
      "version": "3.13.5"
    }
  },
  "nbformat": 4,
  "nbformat_minor": 0
}
