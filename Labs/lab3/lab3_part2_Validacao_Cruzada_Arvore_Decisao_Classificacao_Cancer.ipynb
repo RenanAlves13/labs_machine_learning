{
  "nbformat": 4,
  "nbformat_minor": 0,
  "metadata": {
    "colab": {
      "provenance": [],
      "collapsed_sections": [
        "b7MbXkmkEWnk"
      ]
    },
    "kernelspec": {
      "name": "python3",
      "display_name": "Python 3"
    }
  },
  "cells": [
    {
      "cell_type": "markdown",
      "metadata": {
        "id": "u2igL7_eWir0"
      },
      "source": [
        "# Classificacao de Cancer com Arvores de Decisao\n",
        "\n",
        "Vamos classificar tumores em benignos ou malignos, baseado-se em diversos atributos destes."
      ]
    },
    {
      "cell_type": "markdown",
      "metadata": {
        "id": "8ThBZBOjyIqD"
      },
      "source": [
        "## Imports, Carga de Dados, etc"
      ]
    },
    {
      "cell_type": "markdown",
      "metadata": {
        "id": "yLLhATfpul8J"
      },
      "source": [
        "#### Imports"
      ]
    },
    {
      "cell_type": "code",
      "metadata": {
        "id": "r292CTjQunMg"
      },
      "source": [
        "from sklearn.tree import DecisionTreeClassifier\n",
        "from sklearn.datasets import load_breast_cancer\n",
        "from sklearn.model_selection import cross_val_score\n",
        "from sklearn.model_selection import StratifiedKFold\n",
        "from sklearn.model_selection import KFold\n",
        "import matplotlib.pyplot as plt"
      ],
      "execution_count": null,
      "outputs": []
    },
    {
      "cell_type": "markdown",
      "metadata": {
        "id": "7pyrRc48M9mX"
      },
      "source": [
        "#### Carga dos dados"
      ]
    },
    {
      "cell_type": "code",
      "metadata": {
        "id": "wMdlnwupM4x5"
      },
      "source": [
        "cancer = load_breast_cancer()\n",
        "X = cancer.data\n",
        "y = cancer.target"
      ],
      "execution_count": null,
      "outputs": []
    },
    {
      "cell_type": "markdown",
      "metadata": {
        "id": "7JX4Wt4XNPn7"
      },
      "source": [
        "## Validacao Cruzada"
      ]
    },
    {
      "cell_type": "markdown",
      "metadata": {
        "id": "-6dPyWoSyPmk"
      },
      "source": [
        "### QUESTAO 01\n",
        "\n",
        "Analisar a eficacia do classificador DecisionTreeClassifier com diferentes valores do parametro `max_depth` (profundidade maxima da arvore).\n",
        "\n",
        "Plote um grafico de linha mostrando a acuracia para diferentes valores deste parametro.\n",
        "\n",
        "A acuracia deve ser a media (mean) dos valores obtidos em uma validacao cruzada.\n",
        "\n",
        "Execute a validacao cruzada atraves da funcao: `cross_val_score`, especificando `scoring='accuracy'` e um valor inteiro para `cv` (quantidade de folds). Exemplo: `cv=10`"
      ]
    },
    {
      "cell_type": "code",
      "metadata": {
        "id": "550-dzsavZ4f"
      },
      "source": [
        "%matplotlib inline\n",
        "\n",
        "# d variando de 2 a 9\n",
        "d_range = range(2, 10)\n",
        "mean_scores = []\n",
        "\n",
        "for d in d_range:\n",
        "    #TODO escreva o codigo interno do laco\n",
        "\n",
        "plt.plot(d_range, mean_scores)\n",
        "plt.xlabel('Valor de max_depth para Arvore')\n",
        "plt.ylabel('Acuracia da Validacao Cruzada')\n",
        "plt.show()"
      ],
      "execution_count": null,
      "outputs": []
    },
    {
      "cell_type": "markdown",
      "metadata": {
        "id": "nthkze_j0SIT"
      },
      "source": [
        "### QUESTAO 02\n",
        "\n",
        "Repita o experimento da questao anterior, porem, ao inves de especificar um valor inteiro para `cv`, especifique um separador personalizado.\n",
        "\n",
        "O que vai mudar no codigo:\n",
        "\n",
        "Antes do laco, instancie um objeto `StratifiedKFold` (equivalente ao KFold, porem, mantem um equilibrio na distribuicao das classes). Voce deve escolher os parametros.\n",
        "\n",
        "`custom_cv = StratifiedKFold(....)`\n",
        "\n",
        "O parametro `_cv_` do metodo `cross_val_score` deve ser especificado da seguinte maneira:\n",
        "\n",
        "cross_val_score(..., cv=custom_cv, ...)"
      ]
    },
    {
      "cell_type": "code",
      "metadata": {
        "id": "p8ZvSZEAfE5u"
      },
      "source": [
        "%matplotlib inline\n",
        "\n",
        "# d variando de 2 a 9\n",
        "d_range = range(2, 10)\n",
        "mean_scores = []\n",
        "custom_cv = #TODO definir\n",
        "\n",
        "for d in d_range:\n",
        "    #TODO escreva o codigo interno do laco (pequena mudanca em relacao a questao anterior)\n",
        "\n",
        "plt.plot(d_range, mean_scores)\n",
        "plt.xlabel('Valor de max_depth para Arvore')\n",
        "plt.ylabel('Acuracia da Validacao Cruzada')\n",
        "plt.show()"
      ],
      "execution_count": null,
      "outputs": []
    },
    {
      "cell_type": "markdown",
      "metadata": {
        "id": "28tXhukj2thK"
      },
      "source": [
        "### QUESTAO 03\n",
        "\n",
        "Reflita sobre as escolhas que voce faria com base nos resultados destes experimentos para discutirmos na aula."
      ]
    }
  ]
}